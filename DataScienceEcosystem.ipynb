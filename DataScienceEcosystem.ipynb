{
 "cells": [
  {
   "cell_type": "markdown",
   "id": "e1c422ca-7568-428b-83f5-a5069264f8f9",
   "metadata": {},
   "source": [
    "= Data Science Tools and Ecosystem ="
   ]
  },
  {
   "cell_type": "code",
   "execution_count": null,
   "id": "8450a391-64c9-4138-9553-fa2eb8d4caa8",
   "metadata": {},
   "outputs": [],
   "source": [
    "== Author ==\n",
    "Bruce Prescott"
   ]
  },
  {
   "cell_type": "markdown",
   "id": "ff90afc6-00b3-4e24-837e-02f61eca3e8d",
   "metadata": {},
   "source": [
    "In this notebook, Data Science Tools and Ecosystem are summarized"
   ]
  },
  {
   "cell_type": "markdown",
   "id": "9761e8d1-c745-4d2e-baa8-2f7afc18d2aa",
   "metadata": {},
   "source": [
    "**Objectives:**\n",
    "- List popular languages for Data Science\n",
    "- List popular libraries used in Data Science\n",
    "- List popular open source or free tools used in Data Science"
   ]
  },
  {
   "cell_type": "code",
   "execution_count": null,
   "id": "7a58192a-7568-4f8d-a885-d1ebc6df587b",
   "metadata": {},
   "outputs": [],
   "source": [
    "Some of the commonly used libraries used by Datat Scientgists include:\n",
    "1. Python\n",
    "2. R\n",
    "3. SQL\n",
    "4. Java"
   ]
  },
  {
   "cell_type": "markdown",
   "id": "45e821f6-989a-47b9-977a-69031de9a4df",
   "metadata": {},
   "source": [
    "Some of the commonly used libraries used by Data Scientists include: \n",
    "1. Matplotlib\n",
    "2. Numpy\n",
    "3. Pandas\n",
    "4. Scikit-learn"
   ]
  },
  {
   "cell_type": "markdown",
   "id": "a82ebfbd-f61b-4aa3-9841-18b391b2daac",
   "metadata": {},
   "source": [
    "| Data Science Tools |\n",
    "----------\n",
    "|Jupyter|\n",
    "|GitHub|\n",
    "|RStudio|"
   ]
  },
  {
   "cell_type": "markdown",
   "id": "ade25150-a7ba-4b8c-a80e-85378431649d",
   "metadata": {},
   "source": [
    "=== Below are a few example of evaluating arithmetic expressions in Python. ==="
   ]
  },
  {
   "cell_type": "code",
   "execution_count": 2,
   "id": "fa06d7cc-b283-4284-89fe-76846b90d2ad",
   "metadata": {},
   "outputs": [
    {
     "data": {
      "text/plain": [
       "17"
      ]
     },
     "execution_count": 2,
     "metadata": {},
     "output_type": "execute_result"
    }
   ],
   "source": [
    "# This is a simple arithmetic expression to multiply then add integers\n",
    "(3*4)+5"
   ]
  },
  {
   "cell_type": "code",
   "execution_count": 4,
   "id": "9ef8e4ee-daae-4746-a689-75b384704b87",
   "metadata": {},
   "outputs": [
    {
     "data": {
      "text/plain": [
       "3.3333333333333335"
      ]
     },
     "execution_count": 4,
     "metadata": {},
     "output_type": "execute_result"
    }
   ],
   "source": [
    "# This will convert 200 minutes to hours by dividing by 60\n",
    "200/60"
   ]
  }
 ],
 "metadata": {
  "kernelspec": {
   "display_name": "Python 3 (ipykernel)",
   "language": "python",
   "name": "python3"
  },
  "language_info": {
   "codemirror_mode": {
    "name": "ipython",
    "version": 3
   },
   "file_extension": ".py",
   "mimetype": "text/x-python",
   "name": "python",
   "nbconvert_exporter": "python",
   "pygments_lexer": "ipython3",
   "version": "3.12.7"
  }
 },
 "nbformat": 4,
 "nbformat_minor": 5
}
